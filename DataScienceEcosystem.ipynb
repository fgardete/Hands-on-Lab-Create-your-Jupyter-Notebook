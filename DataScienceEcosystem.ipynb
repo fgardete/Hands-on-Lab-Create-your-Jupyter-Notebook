{
 "cells": [
  {
   "cell_type": "markdown",
   "id": "855244f1",
   "metadata": {},
   "source": [
    "# Data Science Tools and Ecosystem"
   ]
  },
  {
   "cell_type": "markdown",
   "id": "9a8f7f4d",
   "metadata": {},
   "source": [
    "## In this notebook, Data Science Tools and Ecosystem are summarized.\n"
   ]
  },
  {
   "cell_type": "markdown",
   "id": "9ee60add",
   "metadata": {},
   "source": [
    "**Objectives:**\n",
    "\n",
    "- List popular languages for Data Science.\n",
    "- Identify commonly used libraries in Data Science.\n",
    "- Understand basic arithmetic operations in Python.\n",
    "- Convert minutes to hours using a simple Python expression.\n"
   ]
  },
  {
   "cell_type": "markdown",
   "id": "68ad09e8",
   "metadata": {},
   "source": [
    "### Data Science Languages\n",
    "\n",
    "Some of the popular languages that Data Scientists use are:\n",
    "\n",
    "1. Python\n",
    "2. R\n",
    "3. SQL\n",
    "4. Scala"
   ]
  },
  {
   "cell_type": "markdown",
   "id": "be3243ba",
   "metadata": {},
   "source": [
    "### Data Science Libraries\n",
    "\n",
    "Some of the commonly used libraries used by Data Scientists include:\n",
    "\n",
    "1. NumPy\n",
    "2. Pandas\n",
    "3. Matplotlib\n",
    "4. Scikit-learn\n",
    "5. TensorFlow\n",
    "6. PyTorch\n"
   ]
  },
  {
   "cell_type": "markdown",
   "id": "352752bc",
   "metadata": {},
   "source": [
    "| Data Science Tools          |\n",
    "|-----------------------------|\n",
    "| Jupyter Notebook            |\n",
    "| RStudio                     |\n",
    "| Apache Zeppelin             |"
   ]
  },
  {
   "cell_type": "markdown",
   "id": "22c1b4a1",
   "metadata": {},
   "source": [
    "### Below are a few examples of evaluating arithmetic expressions in Python.\n",
    "\n",
    "1. Addition: 3 + 5 \n",
    "2. Subtraction: 10 - 4\n",
    "3. Multiplication: 7 * 6\n",
    "4. Division: 16 / 4\n",
    "5. Exponentiation: 2 ** 3\n",
    "6. Modulus: 10 % 3\n"
   ]
  },
  {
   "cell_type": "markdown",
   "id": "ec9c2c1c",
   "metadata": {},
   "source": [
    "### This is a simple arithmetic expression to multiply then add integers\n"
   ]
  },
  {
   "cell_type": "code",
   "execution_count": 8,
   "id": "8f8f3db7",
   "metadata": {},
   "outputs": [
    {
     "data": {
      "text/plain": [
       "17"
      ]
     },
     "execution_count": 8,
     "metadata": {},
     "output_type": "execute_result"
    }
   ],
   "source": [
    "(3 * 4) + 5\n"
   ]
  },
  {
   "cell_type": "markdown",
   "id": "cadaf7ca",
   "metadata": {},
   "source": [
    "### This will convert 200 minutes to hours by dividing by 60\n"
   ]
  },
  {
   "cell_type": "code",
   "execution_count": 13,
   "id": "506caf35",
   "metadata": {},
   "outputs": [
    {
     "data": {
      "text/plain": [
       "3.3333333333333335"
      ]
     },
     "execution_count": 13,
     "metadata": {},
     "output_type": "execute_result"
    }
   ],
   "source": [
    "200/60"
   ]
  },
  {
   "cell_type": "markdown",
   "id": "0ef144c1",
   "metadata": {},
   "source": [
    "## Author\n",
    "\n",
    "Filipe Gardete\n"
   ]
  },
  {
   "cell_type": "markdown",
   "id": "73e0bf66",
   "metadata": {},
   "source": [
    "### [Hands-on Lab: Getting Started with GitHub](https://github.com/fgardete/Hands-on-Lab-Getting-Started-with-GitHub)"
   ]
  }
 ],
 "metadata": {
  "kernelspec": {
   "display_name": "Python 3 (ipykernel)",
   "language": "python",
   "name": "python3"
  },
  "language_info": {
   "codemirror_mode": {
    "name": "ipython",
    "version": 3
   },
   "file_extension": ".py",
   "mimetype": "text/x-python",
   "name": "python",
   "nbconvert_exporter": "python",
   "pygments_lexer": "ipython3",
   "version": "3.11.5"
  }
 },
 "nbformat": 4,
 "nbformat_minor": 5
}
